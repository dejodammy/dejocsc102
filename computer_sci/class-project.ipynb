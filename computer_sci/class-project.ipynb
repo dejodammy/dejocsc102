{
 "cells": [
  {
   "cell_type": "markdown",
   "metadata": {},
   "source": [
    "# NAME: OLADEJO OLUWADAMILOLA\n",
    "### MATRIC NUMBER: 21120612543\n",
    "### EMAIL: oluwadamilola.oladejo@pau.edu.ng"
   ]
  },
  {
   "cell_type": "markdown",
   "metadata": {},
   "source": [
    "###### PROJECT 1: PSEUDOCODE\n",
    "* INPUT NUMBER\n",
    "* IF NUMBER IS GREATER THAN 17 \n",
    "* PRINT NUMBER - 17 \n",
    "* MULTIPLY 2 WITH THE ANSWER\n",
    "* ELSE PRINT 17 - THE NUMBER\n",
    "![](picture1.jpg)"
   ]
  },
  {
   "cell_type": "code",
   "execution_count": 2,
   "metadata": {},
   "outputs": [
    {
     "name": "stdout",
     "output_type": "stream",
     "text": [
      "input the number:19\n",
      "4\n"
     ]
    }
   ],
   "source": [
    "#PROJECT 1\n",
    "a = int(input(\"input the number:\"))\n",
    "if a > 17:\n",
    "    v = a - 17\n",
    "    print(v * 2)\n",
    "else:\n",
    "    v = 17 - a\n",
    "    print(v)\n",
    "    "
   ]
  },
  {
   "cell_type": "markdown",
   "metadata": {},
   "source": [
    "### PROJECT 2: pseudocode\n",
    "* INPUT THREE NUMBERS\n",
    "* IF THE 3 NUMBERS ARE THE SAME \n",
    "* ADD THE 3 NUMBERS AND THEN MULTIPLY BY 3\n",
    "* ELSE ADD THE 3 NUMBERS TOGETHER\n",
    "![](pic2.jpg)"
   ]
  },
  {
   "cell_type": "code",
   "execution_count": 4,
   "metadata": {},
   "outputs": [
    {
     "name": "stdout",
     "output_type": "stream",
     "text": [
      "first value: 9\n",
      "second value: 9\n",
      "third value: 9\n",
      "81\n"
     ]
    }
   ],
   "source": [
    "a = int(input(\"first value: \"))\n",
    "b = int(input(\"second value: \"))\n",
    "c = int(input(\"third value: \"))\n",
    "if a == b == c:\n",
    "    d = (a+b+c)*3\n",
    "    print(d)\n",
    "else:\n",
    "    d = a + b + c\n",
    "    print(d)"
   ]
  },
  {
   "cell_type": "markdown",
   "metadata": {},
   "source": [
    "## PROJECT 3: PSEUDOCODE\n",
    "* INPUT THE 2 NUMBERS\n",
    "* IF THE 2 NUMBERS ARE EQUAL TO EACH OTHER OR THERE DIFFERENCE IS 5 OR THERE SUM IS 5 \n",
    "* PRINT TRUE\n",
    "* ELSE PRINT FALSE\n",
    "![](pic3.jpg)"
   ]
  },
  {
   "cell_type": "code",
   "execution_count": 8,
   "metadata": {},
   "outputs": [
    {
     "name": "stdout",
     "output_type": "stream",
     "text": [
      "first value: 8\n",
      "second value:9\n",
      "false\n"
     ]
    }
   ],
   "source": [
    "a = int(input(\"first value: \"))\n",
    "b = int(input(\"second value:\"))\n",
    "if a == b or a+b == 5 or a-b == 5:\n",
    "    print(\"TRUE\")\n",
    "else:\n",
    "    print(\"false\")"
   ]
  },
  {
   "cell_type": "markdown",
   "metadata": {},
   "source": [
    "# PROJECT 4: PSEUDOCODE\n",
    "* INPUT 3 VALUES \n",
    "* STORE THE 3 VALUES\n",
    "* ADD THE 3 VALUES TOGETHER THEN MINUS IT FROM THE MAX FROM STORED AND MIN FROM STORED\n",
    "* PRINT MAX VALUE MIN VALUE AND MIDDLE VALUE\n",
    "![](pic4.jpg)"
   ]
  },
  {
   "cell_type": "code",
   "execution_count": 4,
   "metadata": {},
   "outputs": [
    {
     "name": "stdout",
     "output_type": "stream",
     "text": [
      "Wall time: 0 ns\n",
      "first value: 123\n",
      "second value:234\n",
      "third value: 234\n",
      "max =  234\n",
      "min =  123\n",
      "middle=  234\n"
     ]
    }
   ],
   "source": [
    "%time\n",
    "a = int(input(\"first value: \"))\n",
    "b = int(input(\"second value:\"))\n",
    "c = int(input(\"third value: \"))\n",
    "v = (a,b,c)\n",
    "g = a+b+c-max(v)-min(v)\n",
    "print(\"max = \",max(v))\n",
    "print(\"min = \",min(v))\n",
    "print(\"middle= \",g)"
   ]
  },
  {
   "cell_type": "markdown",
   "metadata": {},
   "source": [
    "## INPUT NUMBER\n",
    "* MINUS ONE FROM NUMBER TILL IT GETS TO 1\n",
    "* STORE THE RESULTS\n",
    "* RAISE EACH NUMBER UP THE POWER OF 3\n",
    "* ADD EACH OF THE NUMBERSTHAT HAS BEEN RAISED TO THE NUMBER OF 3\n",
    "![](pic5.jpg)"
   ]
  },
  {
   "cell_type": "code",
   "execution_count": 13,
   "metadata": {},
   "outputs": [
    {
     "name": "stdout",
     "output_type": "stream",
     "text": [
      "Wall time: 0 ns\n",
      "first value: 5\n",
      "4 64\n",
      "3 27\n",
      "2 8\n",
      "1 1\n",
      "the total summ of there cube is  100\n"
     ]
    }
   ],
   "source": [
    "    %time\n",
    "    a = int(input(\"first value: \"))\n",
    "    b = 0 \n",
    "    while a > 1:\n",
    "        a = a-1\n",
    "        g = a**3\n",
    "        print(a,g)\n",
    "        b += g \n",
    "\n",
    "print(\"the total summ of there cube is \",b)"
   ]
  },
  {
   "cell_type": "code",
   "execution_count": null,
   "metadata": {},
   "outputs": [],
   "source": []
  }
 ],
 "metadata": {
  "kernelspec": {
   "display_name": "Python 3",
   "language": "python",
   "name": "python3"
  },
  "language_info": {
   "codemirror_mode": {
    "name": "ipython",
    "version": 3
   },
   "file_extension": ".py",
   "mimetype": "text/x-python",
   "name": "python",
   "nbconvert_exporter": "python",
   "pygments_lexer": "ipython3",
   "version": "3.8.3"
  }
 },
 "nbformat": 4,
 "nbformat_minor": 4
}
